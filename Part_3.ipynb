{
  "cells": [
    {
      "cell_type": "code",
      "execution_count": null,
      "id": "dd27c087",
      "metadata": {
        "id": "dd27c087"
      },
      "outputs": [],
      "source": [
        "!pip install datasets\n",
        "!pip install pincone\n",
        "!pip install cohere\n",
        "!pip install pandas\n",
        "from sentence_transformers import SentenceTransformer\n",
        "from datasets import load_dataset\n",
        "from pinecone import Pinecone, ServerlessSpec\n",
        "import os\n",
        "from tqdm import tqdm\n",
        "import cohere\n",
        "import numpy as np\n",
        "import warnings\n",
        "import pandas as pd\n",
        "from IPython.display import display\n",
        "warnings.filterwarnings(\"ignore\")"
      ]
    },
    {
      "cell_type": "code",
      "execution_count": null,
      "id": "33e6f5b3",
      "metadata": {
        "id": "33e6f5b3"
      },
      "outputs": [],
      "source": [
        "# get the input from the user\n",
        "COHERE_API_KEY = input(\"Please enter your Cohere API key: \")\n",
        "PINECONE_API_KEY = input(\"Please enter yiour Pinecone API key: \")"
      ]
    },
    {
      "cell_type": "code",
      "execution_count": null,
      "id": "9d558650",
      "metadata": {
        "id": "9d558650"
      },
      "outputs": [],
      "source": [
        "from sentence_transformers import SentenceTransformer\n",
        "\n",
        "EMBEDDING_MODEL = 'all-MiniLM-L6-v2'\n",
        "model = SentenceTransformer(EMBEDDING_MODEL)"
      ]
    },
    {
      "cell_type": "code",
      "execution_count": null,
      "id": "25de8986",
      "metadata": {
        "id": "25de8986"
      },
      "outputs": [],
      "source": [
        "# Document Reading and Preprocessing:\n",
        "\n",
        "def load_and_embedd_dataset(\n",
        "        directory_name,\n",
        "        model: SentenceTransformer = SentenceTransformer('all-MiniLM-L6-v2'),\n",
        "        text_field: str = 'textuals',\n",
        ") -> tuple:\n",
        "    \"\"\"\n",
        "    Load a dataset and embedd the text field using a sentence-transformer model\n",
        "    Args:\n",
        "        directory_name: The name of the directory in which the data is stored\n",
        "        split: The split of the dataset to load\n",
        "        model: The model to use for embedding\n",
        "        text_field: The field in the dataset that contains the text\n",
        "        rec_num: The number of records to load and embedd\n",
        "    Returns:\n",
        "        tuple: A tuple containing the dataset and the embeddings\n",
        "    \"\"\"\n",
        "\n",
        "    # Load the csvs from the directory, take only the necessary columns\n",
        "    dataset = pd.DataFrame()\n",
        "    for file in os.listdir(directory_name):\n",
        "        if file.endswith(\".csv\"):\n",
        "            to_add = pd.read_csv(os.path.join(directory_name, file))\n",
        "            #add the name of the file as a column\n",
        "            to_add['file'] = file[:-4]\n",
        "            #if there are no name and description columns, skip\n",
        "            if 'name' not in to_add.columns or 'description' not in to_add.columns:\n",
        "                continue\n",
        "            dataset = pd.concat([dataset, to_add[['name', 'description', 'file']]])\n",
        "\n",
        "    dataset['textuals'] = dataset['name'] + ' (' + dataset['file'] +'): ' + dataset['description']\n",
        "\n",
        "    #remove blanks in textuals\n",
        "    dataset = dataset.dropna(subset=['textuals'])\n",
        "    #drop empty strings in textuals\n",
        "    dataset = dataset[dataset['textuals'].str.strip().astype(bool)]\n",
        "\n",
        "    #reindex\n",
        "    dataset = dataset.reset_index(drop=True)\n",
        "\n",
        "    # Embed the first `rec_num` rows of the dataset\n",
        "    embeddings = model.encode(dataset[text_field])\n",
        "\n",
        "    return dataset, embeddings"
      ]
    },
    {
      "cell_type": "code",
      "execution_count": null,
      "id": "3bff82e2",
      "metadata": {
        "id": "3bff82e2"
      },
      "outputs": [],
      "source": [
        "DIRECTORY_NAME = 'data\\elden-ring-data'\n",
        "\n",
        "dataset, embeddings = load_and_embedd_dataset(\n",
        "    directory_name=DIRECTORY_NAME,\n",
        "    model=model,\n",
        ")\n",
        "shape = embeddings.shape"
      ]
    },
    {
      "cell_type": "code",
      "execution_count": null,
      "id": "8f1e83d2",
      "metadata": {
        "id": "8f1e83d2",
        "outputId": "396722bd-6841-4e7c-bf37-2f1a69a34a72"
      },
      "outputs": [
        {
          "name": "stdout",
          "output_type": "stream",
          "text": [
            "The embeddings shape: (2273, 384)\n"
          ]
        }
      ],
      "source": [
        "print(f\"The embeddings shape: {embeddings.shape}\")"
      ]
    },
    {
      "cell_type": "code",
      "execution_count": null,
      "id": "de149555",
      "metadata": {
        "id": "de149555"
      },
      "outputs": [],
      "source": [
        "from pinecone import Pinecone, ServerlessSpec\n",
        "\n",
        "def create_pinecone_index(\n",
        "        index_name: str,\n",
        "        dimension: int,\n",
        "        metric: str = 'cosine',\n",
        "):\n",
        "    \"\"\"\n",
        "    Create a pinecone index if it does not exist\n",
        "    Args:\n",
        "        index_name: The name of the index\n",
        "        dimension: The dimension of the index\n",
        "        metric: The metric to use for the index\n",
        "    Returns:\n",
        "        Pinecone: A pinecone object which can later be used for upserting vectors and connecting to VectorDBs\n",
        "    \"\"\"\n",
        "    print(\"Creating a Pinecone index...\")\n",
        "    pc = Pinecone(api_key=PINECONE_API_KEY)\n",
        "    existing_indexes = [index_info[\"name\"] for index_info in pc.list_indexes()]\n",
        "    if index_name not in existing_indexes:\n",
        "        pc.create_index(\n",
        "            name=index_name,\n",
        "            dimension=dimension,\n",
        "            metric=metric,\n",
        "            spec=ServerlessSpec(\n",
        "                cloud=\"aws\",\n",
        "                region=\"us-east-1\"\n",
        "            )\n",
        "        )\n",
        "    return pc"
      ]
    },
    {
      "cell_type": "code",
      "execution_count": null,
      "id": "e6e59ce9",
      "metadata": {
        "id": "e6e59ce9"
      },
      "outputs": [],
      "source": [
        "INDEX_NAME = 'tomershirshelly'\n",
        "\n",
        "# Create the vector database\n",
        "# We are passing the index_name and the size of our embeddings\n",
        "pc = create_pinecone_index(INDEX_NAME, shape[1])"
      ]
    },
    {
      "cell_type": "code",
      "execution_count": null,
      "id": "f22e0176",
      "metadata": {
        "id": "f22e0176"
      },
      "outputs": [],
      "source": [
        "def upsert_vectors(\n",
        "        index: Pinecone,\n",
        "        embeddings: np.ndarray,\n",
        "        dataset: dict,\n",
        "        text_field: str = 'textuals',\n",
        "        batch_size: int = 128\n",
        "):\n",
        "    \"\"\"\n",
        "    Upsert vectors to a pinecone index\n",
        "    Args:\n",
        "        index: The pinecone index object\n",
        "        embeddings: The embeddings to upsert\n",
        "        dataset: The dataset containing the metadata\n",
        "        batch_size: The batch size to use for upserting\n",
        "    Returns:\n",
        "        An updated pinecone index\n",
        "    \"\"\"\n",
        "    print(\"Upserting the embeddings to the Pinecone index...\")\n",
        "    shape = embeddings.shape\n",
        "    ids = [str(i) for i in range(shape[0])]\n",
        "    meta = [{text_field: text} for text in dataset[text_field]]\n",
        "\n",
        "    # create list of (id, vector, metadata) tuples to be upserted\n",
        "    to_upsert = list(zip(ids, embeddings, meta))\n",
        "\n",
        "    for i in tqdm(range(0, shape[0], batch_size)):\n",
        "        i_end = min(i + batch_size, shape[0])\n",
        "        index.upsert(vectors=to_upsert[i:i_end])\n",
        "    return index\n"
      ]
    },
    {
      "cell_type": "code",
      "execution_count": null,
      "id": "ee8f4096",
      "metadata": {
        "id": "ee8f4096",
        "outputId": "aaa55fb0-dd3f-4419-d593-1f7362510d22"
      },
      "outputs": [
        {
          "name": "stdout",
          "output_type": "stream",
          "text": [
            "<pinecone.data.index.Index object at 0x0000015F8425B5E0> (2273, 384) (2273, 4)\n",
            "Upserting the embeddings to the Pinecone index...\n"
          ]
        },
        {
          "name": "stderr",
          "output_type": "stream",
          "text": [
            "100%|██████████| 18/18 [00:16<00:00,  1.08it/s]\n"
          ]
        }
      ],
      "source": [
        "# Upsert the embeddings to the Pinecone index\n",
        "index = pc.Index(INDEX_NAME)\n",
        "print(index, embeddings.shape, dataset.shape)\n",
        "index_upserted = upsert_vectors(index, embeddings, dataset)"
      ]
    },
    {
      "cell_type": "code",
      "execution_count": null,
      "id": "f59275f9",
      "metadata": {
        "id": "f59275f9",
        "outputId": "853d086d-202f-41d4-a005-6f72caedf82b"
      },
      "outputs": [
        {
          "name": "stdout",
          "output_type": "stream",
          "text": [
            "Query:  In Elden Ring, What is the starting class that has a club?\n",
            "\n",
            "Answer:  The starting class that begins with a club in Elden Ring is the Vagabond.\n",
            "-------------------\n",
            "Query:  What is a Deathbird?\n",
            "\n",
            "Answer:  A Deathbird is a fictional character in the Marvel Universe. She is a powerful and dangerous mutant with the ability to generate powerful energy blasts and manipulate darkforce energy. She is known for her bird-like appearance, with feathered wings and a bird-like head, and is usually depicted as an antagonist to the X-Men and other superheroes in the Marvel Universe.\n",
            "\n",
            "Deathbird, whose real name is Cal'syee Neramani, is a member of the Shi'ar Empire, an alien civilization in the Marvel Universe. She is the sister of Lilandra, the Empress of the Shi'ar, and has often clashed with the X-Men and other superheroes due to her desire for power and control. She has served as both a villain and occasionally as an anti-hero, and has been a member of teams such as the Brotherhood of Mutants and the Dark Guardians.\n",
            "\n",
            "Deathbird's powers include the ability to generate powerful blasts of energy from her hands, which she can use for attack or defense. She also possesses superhuman strength, speed, and durability, as well as the ability to fly using her feathered wings. She is a skilled warrior and has been trained in hand-to-hand combat, making her a formidable opponent in battle.\n",
            "\n",
            "In addition to her appearances in Marvel comics, Deathbird has also made appearances in other media, including animated television series and video games. She is often portrayed as a complex and conflicted character, struggling between her desire for power and her loyalty to her family and the Shi'ar Empire.\n",
            "-------------------\n",
            "Query:  Who is the Black Blade?\n",
            "\n",
            "Answer:  The Black Blade is a fictional character and a DC Comics superhero. He first appeared in the comic book \"All-Star Squadron #25\" in September 1983.\n",
            "\n",
            "The Black Blade's secret identity is Richard Dragon, a master martial artist and adventurer. He was created by writers Mike W. Barr and Paul Kupperberg, and artist Adrian Gonzales.\n",
            "\n",
            "Richard Dragon took up the mantle of the Black Blade after his predecessor, Ben Turner, who was also known as the Bronze Tiger. The Black Blade wields a mystical sword called the Ebony Blade, which is capable of cutting through any substance except for pure magic. He uses his skills and the power of the sword to fight evil and protect the innocent.\n",
            "\n",
            "The Black Blade is often depicted as a member of the All-Star Squadron, a team of superheroes active during World War II. He has also appeared in other DC Comics titles and crossovers, and has been a part of various superhero teams and organizations.\n",
            "\n",
            "Overall, the Black Blade is a skilled and powerful superhero in the DC Comics universe, known for his martial arts prowess and his mystical sword.\n",
            "-------------------\n",
            "Query:  Who is able to mimic the abilities of the player?\n",
            "\n",
            "Answer:  I'm sorry, but I don't understand your question. Could you please provide more context or clarify what you're referring to when you mention \"the player\"?\n",
            "-------------------\n"
          ]
        }
      ],
      "source": [
        "import cohere\n",
        "\n",
        "queries = [\"In Elden Ring, What is the starting class that has a club?\", \"What is a Deathbird?\", \"Who is the Black Blade?\", \"Who is able to mimic the abilities of the player?\"]\n",
        "\n",
        "for query in queries:\n",
        "    co = cohere.Client(api_key=COHERE_API_KEY)\n",
        "    response = co.chat(\n",
        "            model='command-r-plus',\n",
        "            message=query,\n",
        "        )\n",
        "    print('Query: ',query)\n",
        "    print('\\nAnswer: ',response.text)\n",
        "    print('-------------------')"
      ]
    },
    {
      "cell_type": "code",
      "execution_count": null,
      "id": "bb91e350",
      "metadata": {
        "id": "bb91e350"
      },
      "outputs": [],
      "source": [
        "def augment_prompt(\n",
        "        query: str,\n",
        "        model: SentenceTransformer = SentenceTransformer('all-MiniLM-L6-v2'),\n",
        "        index=None,\n",
        ") -> str:\n",
        "    \"\"\"\n",
        "    Augment the prompt with the top 3 results from the knowledge base\n",
        "    Args:\n",
        "        query: The query to augment\n",
        "        index: The vectorstore object\n",
        "    Returns:\n",
        "        str: The augmented prompt\n",
        "    \"\"\"\n",
        "    results = [float(val) for val in list(model.encode(query))]\n",
        "\n",
        "    # get top 3 results from knowledge base\n",
        "    query_results = index.query(\n",
        "        vector=results,\n",
        "        top_k=3,\n",
        "        include_values=True,\n",
        "        include_metadata=True\n",
        "    )['matches']\n",
        "    text_matches = [match['metadata']['textuals'] for match in query_results]\n",
        "\n",
        "    # get the text from the results\n",
        "    source_knowledge = \"\\n\\n\".join(text_matches)\n",
        "\n",
        "    # feed into an augmented prompt\n",
        "    augmented_prompt = f\"\"\"Using the contexts below, answer the query. The contexts are in the format of 'name of entity (type of entity, i.e source file): description of entity'.\n",
        "    Contexts:\n",
        "    {source_knowledge}\n",
        "    If the answer is not included in the source knowledge - say that you don't know.\n",
        "    Query: {query}\"\"\"\n",
        "    return augmented_prompt, source_knowledge"
      ]
    },
    {
      "cell_type": "code",
      "execution_count": null,
      "id": "4f07e0a7",
      "metadata": {
        "id": "4f07e0a7",
        "outputId": "42aacde5-ae0c-46a4-d334-e6df33078479"
      },
      "outputs": [
        {
          "name": "stdout",
          "output_type": "stream",
          "text": [
            "Query:  What is the starting class that has a club?\n",
            "\n",
            "Answer:  Wretch.\n",
            "\n",
            "Sources:  Wretch (classes): A poor purposeless osd naked as they day they were born. A nice club is all they have\n",
            "\n",
            "Club (weapons): A thick, solid lump of wood. Wielding this striking weapon requires no skill. A simple, primitive weapon that requires only brute strength and persistence to hammer your foe into the ground.\n",
            "\n",
            "Large Club (weapons): A thick, solid lump of wood. Wielding this striking weapon requires no skill. A simple, primitive weapon that requires only brute strength to swing about.\n",
            "-------------------\n",
            "Query:  What is a Deathbird?\n",
            "\n",
            "Answer:  A Deathbird is a bipedal bird with arms and a bird skull for a head. It is found in various locations and carries a barbed rod called Death's Poker. They are fire keepers of graveyards and are known to rake out the ashes of the dead from their kilns.\n",
            "\n",
            "Sources:  Deathbird (bosses): A bipedal bird with arms and a bird skull for a head and is found in various locations\n",
            "\n",
            "Death's Poker (weapons): Barbed rod carried by Deathbirds. The birds are graveyard fire keepers; it is said they rake out the ashen remains of the dead from their kilns.\n",
            "\n",
            "Death Rite Bird (bosses): Immense bird skeleton with crow-like features. Rushes to battle from above while wielding a giant spear.\n",
            "-------------------\n",
            "Query:  Who is the Black Blade?\n",
            "\n",
            "Answer:  Maliketh is the Black Blade.\n",
            "\n",
            "Sources:  Gargoyle's Black Blades (weapons): Bronze twinblade wielded by Valiant Gargoyle, mended with blackened corpse wax. Deals holy damage. Such is the mark of those who serve Maliketh, the Black Blade.\n",
            "\n",
            "Black Knife (weapons): Dagger once belonging to one of the assassins who murdered Godwyn the Golden on the Night of the Black Knives.  A ritual performed on the oddly misshapen blade imbued it with the power of the stolen Rune of Death. \n",
            "\n",
            "Gargoyle's Black Halberd (weapons): Bronze halberd wielded by Valiant Gargoyle, mended with blackened corpse wax. Deals holy damage. Such is the mark of those who serve Maliketh, the Black Blade.\n",
            "-------------------\n",
            "Query:  Who is able to mimic the abilities of the player?\n",
            "\n",
            "Answer:  Mimic Tear (boss) is able to mimic the abilities of the player.\n",
            "\n",
            "Sources:  Mimic Tear (bosses): An eccentric being capable of taking a comprehensive shape of its adversary, ranging from body features to armament.\n",
            "\n",
            "Grace Mimic (items): A fetish indicating the guidance of grace.\n",
            "\n",
            "Invisible Warrior (creatures): Sneak warriors, patient and quick to get in your back.\n",
            "-------------------\n"
          ]
        }
      ],
      "source": [
        "queries = [\"What is the starting class that has a club?\", \"What is a Deathbird?\", \"Who is the Black Blade?\", \"Who is able to mimic the abilities of the player?\"]\n",
        "\n",
        "\n",
        "for query in queries:\n",
        "    augmented_prompt, source_knowledge = augment_prompt(query, model=model, index=index)\n",
        "    response = co.chat(\n",
        "        model='command-r-plus',\n",
        "        message=augmented_prompt,\n",
        "    )\n",
        "    print('Query: ',query)\n",
        "    print('\\nAnswer: ',response.text)\n",
        "    print('\\nSources: ',source_knowledge)\n",
        "    print('-------------------')"
      ]
    }
  ],
  "metadata": {
    "celltoolbar": "Slideshow",
    "kernelspec": {
      "display_name": "Python 3 (ipykernel)",
      "language": "python",
      "name": "python3"
    },
    "language_info": {
      "codemirror_mode": {
        "name": "ipython",
        "version": 3
      },
      "file_extension": ".py",
      "mimetype": "text/x-python",
      "name": "python",
      "nbconvert_exporter": "python",
      "pygments_lexer": "ipython3",
      "version": "3.11.3"
    },
    "colab": {
      "provenance": []
    }
  },
  "nbformat": 4,
  "nbformat_minor": 5
}